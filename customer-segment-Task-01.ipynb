{
 "cells": [
  {
   "cell_type": "code",
   "execution_count": 1,
   "id": "72117ac3",
   "metadata": {
    "_cell_guid": "b1076dfc-b9ad-4769-8c92-a6c4dae69d19",
    "_uuid": "8f2839f25d086af736a60e9eeb907d3b93b6e0e5",
    "execution": {
     "iopub.execute_input": "2023-11-22T10:37:45.488375Z",
     "iopub.status.busy": "2023-11-22T10:37:45.487896Z",
     "iopub.status.idle": "2023-11-22T10:37:45.941453Z",
     "shell.execute_reply": "2023-11-22T10:37:45.940177Z"
    },
    "papermill": {
     "duration": 0.468635,
     "end_time": "2023-11-22T10:37:45.944200",
     "exception": false,
     "start_time": "2023-11-22T10:37:45.475565",
     "status": "completed"
    },
    "tags": []
   },
   "outputs": [
    {
     "name": "stdout",
     "output_type": "stream",
     "text": [
      "/kaggle/input/customer-segmentation-tutorial-in-python/Mall_Customers.csv\n"
     ]
    }
   ],
   "source": [
    "# This Python 3 environment comes with many helpful analytics libraries installed\n",
    "# It is defined by the kaggle/python Docker image: https://github.com/kaggle/docker-python\n",
    "# For example, here's several helpful packages to load\n",
    "\n",
    "import numpy as np # linear algebra\n",
    "import pandas as pd # data processing, CSV file I/O (e.g. pd.read_csv)\n",
    "\n",
    "# Input data files are available in the read-only \"../input/\" directory\n",
    "# For example, running this (by clicking run or pressing Shift+Enter) will list all files under the input directory\n",
    "\n",
    "import os\n",
    "for dirname, _, filenames in os.walk('/kaggle/input'):\n",
    "    for filename in filenames:\n",
    "        print(os.path.join(dirname, filename))\n",
    "\n",
    "# You can write up to 20GB to the current directory (/kaggle/working/) that gets preserved as output when you create a version using \"Save & Run All\" \n",
    "# You can also write temporary files to /kaggle/temp/, but they won't be saved outside of the current session"
   ]
  },
  {
   "cell_type": "markdown",
   "id": "df153c67",
   "metadata": {
    "papermill": {
     "duration": 0.010029,
     "end_time": "2023-11-22T10:37:45.964600",
     "exception": false,
     "start_time": "2023-11-22T10:37:45.954571",
     "status": "completed"
    },
    "tags": []
   },
   "source": [
    "## Data "
   ]
  },
  {
   "cell_type": "code",
   "execution_count": 2,
   "id": "33550385",
   "metadata": {
    "execution": {
     "iopub.execute_input": "2023-11-22T10:37:45.986878Z",
     "iopub.status.busy": "2023-11-22T10:37:45.986389Z",
     "iopub.status.idle": "2023-11-22T10:37:46.033891Z",
     "shell.execute_reply": "2023-11-22T10:37:46.033089Z"
    },
    "papermill": {
     "duration": 0.061424,
     "end_time": "2023-11-22T10:37:46.036300",
     "exception": false,
     "start_time": "2023-11-22T10:37:45.974876",
     "status": "completed"
    },
    "tags": []
   },
   "outputs": [
    {
     "data": {
      "text/html": [
       "<div>\n",
       "<style scoped>\n",
       "    .dataframe tbody tr th:only-of-type {\n",
       "        vertical-align: middle;\n",
       "    }\n",
       "\n",
       "    .dataframe tbody tr th {\n",
       "        vertical-align: top;\n",
       "    }\n",
       "\n",
       "    .dataframe thead th {\n",
       "        text-align: right;\n",
       "    }\n",
       "</style>\n",
       "<table border=\"1\" class=\"dataframe\">\n",
       "  <thead>\n",
       "    <tr style=\"text-align: right;\">\n",
       "      <th></th>\n",
       "      <th>Gender</th>\n",
       "      <th>Age</th>\n",
       "      <th>Annual Income (k$)</th>\n",
       "      <th>Spending Score (1-100)</th>\n",
       "    </tr>\n",
       "    <tr>\n",
       "      <th>CustomerID</th>\n",
       "      <th></th>\n",
       "      <th></th>\n",
       "      <th></th>\n",
       "      <th></th>\n",
       "    </tr>\n",
       "  </thead>\n",
       "  <tbody>\n",
       "    <tr>\n",
       "      <th>1</th>\n",
       "      <td>Male</td>\n",
       "      <td>19</td>\n",
       "      <td>15</td>\n",
       "      <td>39</td>\n",
       "    </tr>\n",
       "    <tr>\n",
       "      <th>2</th>\n",
       "      <td>Male</td>\n",
       "      <td>21</td>\n",
       "      <td>15</td>\n",
       "      <td>81</td>\n",
       "    </tr>\n",
       "    <tr>\n",
       "      <th>3</th>\n",
       "      <td>Female</td>\n",
       "      <td>20</td>\n",
       "      <td>16</td>\n",
       "      <td>6</td>\n",
       "    </tr>\n",
       "    <tr>\n",
       "      <th>4</th>\n",
       "      <td>Female</td>\n",
       "      <td>23</td>\n",
       "      <td>16</td>\n",
       "      <td>77</td>\n",
       "    </tr>\n",
       "    <tr>\n",
       "      <th>5</th>\n",
       "      <td>Female</td>\n",
       "      <td>31</td>\n",
       "      <td>17</td>\n",
       "      <td>40</td>\n",
       "    </tr>\n",
       "  </tbody>\n",
       "</table>\n",
       "</div>"
      ],
      "text/plain": [
       "            Gender  Age  Annual Income (k$)  Spending Score (1-100)\n",
       "CustomerID                                                         \n",
       "1             Male   19                  15                      39\n",
       "2             Male   21                  15                      81\n",
       "3           Female   20                  16                       6\n",
       "4           Female   23                  16                      77\n",
       "5           Female   31                  17                      40"
      ]
     },
     "execution_count": 2,
     "metadata": {},
     "output_type": "execute_result"
    }
   ],
   "source": [
    "df = pd.read_csv('/kaggle/input/customer-segmentation-tutorial-in-python/Mall_Customers.csv', index_col=0)\n",
    "df.head()"
   ]
  },
  {
   "cell_type": "markdown",
   "id": "02b275de",
   "metadata": {
    "papermill": {
     "duration": 0.009878,
     "end_time": "2023-11-22T10:37:46.056504",
     "exception": false,
     "start_time": "2023-11-22T10:37:46.046626",
     "status": "completed"
    },
    "tags": []
   },
   "source": [
    "## Understand Data"
   ]
  },
  {
   "cell_type": "code",
   "execution_count": 3,
   "id": "1cd57200",
   "metadata": {
    "execution": {
     "iopub.execute_input": "2023-11-22T10:37:46.078481Z",
     "iopub.status.busy": "2023-11-22T10:37:46.078054Z",
     "iopub.status.idle": "2023-11-22T10:37:46.099884Z",
     "shell.execute_reply": "2023-11-22T10:37:46.098555Z"
    },
    "papermill": {
     "duration": 0.035614,
     "end_time": "2023-11-22T10:37:46.102257",
     "exception": false,
     "start_time": "2023-11-22T10:37:46.066643",
     "status": "completed"
    },
    "tags": []
   },
   "outputs": [
    {
     "name": "stdout",
     "output_type": "stream",
     "text": [
      "<class 'pandas.core.frame.DataFrame'>\n",
      "Index: 200 entries, 1 to 200\n",
      "Data columns (total 4 columns):\n",
      " #   Column                  Non-Null Count  Dtype \n",
      "---  ------                  --------------  ----- \n",
      " 0   Gender                  200 non-null    object\n",
      " 1   Age                     200 non-null    int64 \n",
      " 2   Annual Income (k$)      200 non-null    int64 \n",
      " 3   Spending Score (1-100)  200 non-null    int64 \n",
      "dtypes: int64(3), object(1)\n",
      "memory usage: 7.8+ KB\n"
     ]
    }
   ],
   "source": [
    "df.info()"
   ]
  },
  {
   "cell_type": "code",
   "execution_count": 4,
   "id": "5da9c6f2",
   "metadata": {
    "execution": {
     "iopub.execute_input": "2023-11-22T10:37:46.124422Z",
     "iopub.status.busy": "2023-11-22T10:37:46.124010Z",
     "iopub.status.idle": "2023-11-22T10:37:46.147423Z",
     "shell.execute_reply": "2023-11-22T10:37:46.146302Z"
    },
    "papermill": {
     "duration": 0.037656,
     "end_time": "2023-11-22T10:37:46.150156",
     "exception": false,
     "start_time": "2023-11-22T10:37:46.112500",
     "status": "completed"
    },
    "tags": []
   },
   "outputs": [
    {
     "data": {
      "text/html": [
       "<div>\n",
       "<style scoped>\n",
       "    .dataframe tbody tr th:only-of-type {\n",
       "        vertical-align: middle;\n",
       "    }\n",
       "\n",
       "    .dataframe tbody tr th {\n",
       "        vertical-align: top;\n",
       "    }\n",
       "\n",
       "    .dataframe thead th {\n",
       "        text-align: right;\n",
       "    }\n",
       "</style>\n",
       "<table border=\"1\" class=\"dataframe\">\n",
       "  <thead>\n",
       "    <tr style=\"text-align: right;\">\n",
       "      <th></th>\n",
       "      <th>Age</th>\n",
       "      <th>Annual Income (k$)</th>\n",
       "      <th>Spending Score (1-100)</th>\n",
       "    </tr>\n",
       "  </thead>\n",
       "  <tbody>\n",
       "    <tr>\n",
       "      <th>count</th>\n",
       "      <td>200.000000</td>\n",
       "      <td>200.000000</td>\n",
       "      <td>200.000000</td>\n",
       "    </tr>\n",
       "    <tr>\n",
       "      <th>mean</th>\n",
       "      <td>38.850000</td>\n",
       "      <td>60.560000</td>\n",
       "      <td>50.200000</td>\n",
       "    </tr>\n",
       "    <tr>\n",
       "      <th>std</th>\n",
       "      <td>13.969007</td>\n",
       "      <td>26.264721</td>\n",
       "      <td>25.823522</td>\n",
       "    </tr>\n",
       "    <tr>\n",
       "      <th>min</th>\n",
       "      <td>18.000000</td>\n",
       "      <td>15.000000</td>\n",
       "      <td>1.000000</td>\n",
       "    </tr>\n",
       "    <tr>\n",
       "      <th>25%</th>\n",
       "      <td>28.750000</td>\n",
       "      <td>41.500000</td>\n",
       "      <td>34.750000</td>\n",
       "    </tr>\n",
       "    <tr>\n",
       "      <th>50%</th>\n",
       "      <td>36.000000</td>\n",
       "      <td>61.500000</td>\n",
       "      <td>50.000000</td>\n",
       "    </tr>\n",
       "    <tr>\n",
       "      <th>75%</th>\n",
       "      <td>49.000000</td>\n",
       "      <td>78.000000</td>\n",
       "      <td>73.000000</td>\n",
       "    </tr>\n",
       "    <tr>\n",
       "      <th>max</th>\n",
       "      <td>70.000000</td>\n",
       "      <td>137.000000</td>\n",
       "      <td>99.000000</td>\n",
       "    </tr>\n",
       "  </tbody>\n",
       "</table>\n",
       "</div>"
      ],
      "text/plain": [
       "              Age  Annual Income (k$)  Spending Score (1-100)\n",
       "count  200.000000          200.000000              200.000000\n",
       "mean    38.850000           60.560000               50.200000\n",
       "std     13.969007           26.264721               25.823522\n",
       "min     18.000000           15.000000                1.000000\n",
       "25%     28.750000           41.500000               34.750000\n",
       "50%     36.000000           61.500000               50.000000\n",
       "75%     49.000000           78.000000               73.000000\n",
       "max     70.000000          137.000000               99.000000"
      ]
     },
     "execution_count": 4,
     "metadata": {},
     "output_type": "execute_result"
    }
   ],
   "source": [
    "df.describe()"
   ]
  },
  {
   "cell_type": "code",
   "execution_count": 5,
   "id": "c7406df9",
   "metadata": {
    "execution": {
     "iopub.execute_input": "2023-11-22T10:37:46.173845Z",
     "iopub.status.busy": "2023-11-22T10:37:46.173445Z",
     "iopub.status.idle": "2023-11-22T10:37:46.182391Z",
     "shell.execute_reply": "2023-11-22T10:37:46.181107Z"
    },
    "papermill": {
     "duration": 0.023472,
     "end_time": "2023-11-22T10:37:46.184777",
     "exception": false,
     "start_time": "2023-11-22T10:37:46.161305",
     "status": "completed"
    },
    "tags": []
   },
   "outputs": [
    {
     "data": {
      "text/plain": [
       "Gender\n",
       "Female    112\n",
       "Male       88\n",
       "Name: count, dtype: int64"
      ]
     },
     "execution_count": 5,
     "metadata": {},
     "output_type": "execute_result"
    }
   ],
   "source": [
    "df['Gender'].value_counts()"
   ]
  },
  {
   "cell_type": "markdown",
   "id": "3e73276d",
   "metadata": {
    "papermill": {
     "duration": 0.010474,
     "end_time": "2023-11-22T10:37:46.206121",
     "exception": false,
     "start_time": "2023-11-22T10:37:46.195647",
     "status": "completed"
    },
    "tags": []
   },
   "source": [
    "## Visualize "
   ]
  },
  {
   "cell_type": "code",
   "execution_count": 6,
   "id": "95ecd64a",
   "metadata": {
    "execution": {
     "iopub.execute_input": "2023-11-22T10:37:46.229827Z",
     "iopub.status.busy": "2023-11-22T10:37:46.229466Z",
     "iopub.status.idle": "2023-11-22T10:37:46.233354Z",
     "shell.execute_reply": "2023-11-22T10:37:46.232413Z"
    },
    "papermill": {
     "duration": 0.019085,
     "end_time": "2023-11-22T10:37:46.235936",
     "exception": false,
     "start_time": "2023-11-22T10:37:46.216851",
     "status": "completed"
    },
    "tags": []
   },
   "outputs": [],
   "source": [
    "import matplotlib.pyplot as plt"
   ]
  },
  {
   "cell_type": "code",
   "execution_count": 7,
   "id": "23395235",
   "metadata": {
    "execution": {
     "iopub.execute_input": "2023-11-22T10:37:46.259680Z",
     "iopub.status.busy": "2023-11-22T10:37:46.259269Z",
     "iopub.status.idle": "2023-11-22T10:37:46.633576Z",
     "shell.execute_reply": "2023-11-22T10:37:46.632309Z"
    },
    "papermill": {
     "duration": 0.389898,
     "end_time": "2023-11-22T10:37:46.636639",
     "exception": false,
     "start_time": "2023-11-22T10:37:46.246741",
     "status": "completed"
    },
    "tags": []
   },
   "outputs": [
    {
     "data": {
      "text/plain": [
       "<Axes: xlabel='CustomerID'>"
      ]
     },
     "execution_count": 7,
     "metadata": {},
     "output_type": "execute_result"
    },
    {
     "data": {
      "image/png": "[encoded data removed]",
      "text/plain": [
       "<Figure size 640x480 with 1 Axes>"
      ]
     },
     "metadata": {},
     "output_type": "display_data"
    }
   ],
   "source": [
    "df['Annual Income (k$)'].plot()"
   ]
  },
  {
   "cell_type": "code",
   "execution_count": 8,
   "id": "9d105256",
   "metadata": {
    "execution": {
     "iopub.execute_input": "2023-11-22T10:37:46.661923Z",
     "iopub.status.busy": "2023-11-22T10:37:46.661494Z",
     "iopub.status.idle": "2023-11-22T10:37:46.973050Z",
     "shell.execute_reply": "2023-11-22T10:37:46.971881Z"
    },
    "papermill": {
     "duration": 0.32735,
     "end_time": "2023-11-22T10:37:46.975643",
     "exception": false,
     "start_time": "2023-11-22T10:37:46.648293",
     "status": "completed"
    },
    "tags": []
   },
   "outputs": [
    {
     "data": {
      "text/plain": [
       "<Axes: ylabel='Frequency'>"
      ]
     },
     "execution_count": 8,
     "metadata": {},
     "output_type": "execute_result"
    },
    {
     "data": {
      "image/png": "[encoded data removed]",
      "text/plain": [
       "<Figure size 640x480 with 1 Axes>"
      ]
     },
     "metadata": {},
     "output_type": "display_data"
    }
   ],
   "source": [
    "df['Spending Score (1-100)'].plot(kind='hist')"
   ]
  },
  {
   "cell_type": "markdown",
   "id": "ee6b9dfa",
   "metadata": {
    "papermill": {
     "duration": 0.011664,
     "end_time": "2023-11-22T10:37:46.999134",
     "exception": false,
     "start_time": "2023-11-22T10:37:46.987470",
     "status": "completed"
    },
    "tags": []
   },
   "source": [
    "## "
   ]
  },
  {
   "cell_type": "markdown",
   "id": "301afa9f",
   "metadata": {
    "papermill": {
     "duration": 0.012022,
     "end_time": "2023-11-22T10:37:47.022928",
     "exception": false,
     "start_time": "2023-11-22T10:37:47.010906",
     "status": "completed"
    },
    "tags": []
   },
   "source": [
    "## Feature Extraction\n"
   ]
  },
  {
   "cell_type": "code",
   "execution_count": 9,
   "id": "8d5f838a",
   "metadata": {
    "execution": {
     "iopub.execute_input": "2023-11-22T10:37:47.049637Z",
     "iopub.status.busy": "2023-11-22T10:37:47.049254Z",
     "iopub.status.idle": "2023-11-22T10:37:47.057083Z",
     "shell.execute_reply": "2023-11-22T10:37:47.055731Z"
    },
    "papermill": {
     "duration": 0.024065,
     "end_time": "2023-11-22T10:37:47.059569",
     "exception": false,
     "start_time": "2023-11-22T10:37:47.035504",
     "status": "completed"
    },
    "tags": []
   },
   "outputs": [],
   "source": [
    "# convert Gender to numeric\n",
    "df = pd.concat([df,pd.get_dummies(df['Gender'], drop_first=True)], axis=1)"
   ]
  },
  {
   "cell_type": "code",
   "execution_count": 10,
   "id": "37d811bf",
   "metadata": {
    "execution": {
     "iopub.execute_input": "2023-11-22T10:37:47.085120Z",
     "iopub.status.busy": "2023-11-22T10:37:47.084684Z",
     "iopub.status.idle": "2023-11-22T10:37:47.092862Z",
     "shell.execute_reply": "2023-11-22T10:37:47.091696Z"
    },
    "papermill": {
     "duration": 0.023785,
     "end_time": "2023-11-22T10:37:47.095267",
     "exception": false,
     "start_time": "2023-11-22T10:37:47.071482",
     "status": "completed"
    },
    "tags": []
   },
   "outputs": [],
   "source": [
    "df.drop(columns='Gender', inplace=True)"
   ]
  },
  {
   "cell_type": "code",
   "execution_count": 11,
   "id": "453d7cf4",
   "metadata": {
    "execution": {
     "iopub.execute_input": "2023-11-22T10:37:47.120471Z",
     "iopub.status.busy": "2023-11-22T10:37:47.120020Z",
     "iopub.status.idle": "2023-11-22T10:37:47.132540Z",
     "shell.execute_reply": "2023-11-22T10:37:47.131412Z"
    },
    "papermill": {
     "duration": 0.027997,
     "end_time": "2023-11-22T10:37:47.134920",
     "exception": false,
     "start_time": "2023-11-22T10:37:47.106923",
     "status": "completed"
    },
    "tags": []
   },
   "outputs": [
    {
     "data": {
      "text/html": [
       "<div>\n",
       "<style scoped>\n",
       "    .dataframe tbody tr th:only-of-type {\n",
       "        vertical-align: middle;\n",
       "    }\n",
       "\n",
       "    .dataframe tbody tr th {\n",
       "        vertical-align: top;\n",
       "    }\n",
       "\n",
       "    .dataframe thead th {\n",
       "        text-align: right;\n",
       "    }\n",
       "</style>\n",
       "<table border=\"1\" class=\"dataframe\">\n",
       "  <thead>\n",
       "    <tr style=\"text-align: right;\">\n",
       "      <th></th>\n",
       "      <th>Age</th>\n",
       "      <th>Annual Income (k$)</th>\n",
       "      <th>Spending Score (1-100)</th>\n",
       "      <th>Male</th>\n",
       "    </tr>\n",
       "    <tr>\n",
       "      <th>CustomerID</th>\n",
       "      <th></th>\n",
       "      <th></th>\n",
       "      <th></th>\n",
       "      <th></th>\n",
       "    </tr>\n",
       "  </thead>\n",
       "  <tbody>\n",
       "    <tr>\n",
       "      <th>1</th>\n",
       "      <td>19</td>\n",
       "      <td>15</td>\n",
       "      <td>39</td>\n",
       "      <td>True</td>\n",
       "    </tr>\n",
       "    <tr>\n",
       "      <th>2</th>\n",
       "      <td>21</td>\n",
       "      <td>15</td>\n",
       "      <td>81</td>\n",
       "      <td>True</td>\n",
       "    </tr>\n",
       "    <tr>\n",
       "      <th>3</th>\n",
       "      <td>20</td>\n",
       "      <td>16</td>\n",
       "      <td>6</td>\n",
       "      <td>False</td>\n",
       "    </tr>\n",
       "    <tr>\n",
       "      <th>4</th>\n",
       "      <td>23</td>\n",
       "      <td>16</td>\n",
       "      <td>77</td>\n",
       "      <td>False</td>\n",
       "    </tr>\n",
       "    <tr>\n",
       "      <th>5</th>\n",
       "      <td>31</td>\n",
       "      <td>17</td>\n",
       "      <td>40</td>\n",
       "      <td>False</td>\n",
       "    </tr>\n",
       "  </tbody>\n",
       "</table>\n",
       "</div>"
      ],
      "text/plain": [
       "            Age  Annual Income (k$)  Spending Score (1-100)   Male\n",
       "CustomerID                                                        \n",
       "1            19                  15                      39   True\n",
       "2            21                  15                      81   True\n",
       "3            20                  16                       6  False\n",
       "4            23                  16                      77  False\n",
       "5            31                  17                      40  False"
      ]
     },
     "execution_count": 11,
     "metadata": {},
     "output_type": "execute_result"
    }
   ],
   "source": [
    "df.head()"
   ]
  },
  {
   "cell_type": "code",
   "execution_count": 12,
   "id": "cdae3a99",
   "metadata": {
    "execution": {
     "iopub.execute_input": "2023-11-22T10:37:47.161415Z",
     "iopub.status.busy": "2023-11-22T10:37:47.160746Z",
     "iopub.status.idle": "2023-11-22T10:37:47.167888Z",
     "shell.execute_reply": "2023-11-22T10:37:47.166499Z"
    },
    "papermill": {
     "duration": 0.023292,
     "end_time": "2023-11-22T10:37:47.170453",
     "exception": false,
     "start_time": "2023-11-22T10:37:47.147161",
     "status": "completed"
    },
    "tags": []
   },
   "outputs": [],
   "source": [
    "df['Male'] = df['Male'].replace({True:1, False:0})"
   ]
  },
  {
   "cell_type": "code",
   "execution_count": 13,
   "id": "ea3f9309",
   "metadata": {
    "execution": {
     "iopub.execute_input": "2023-11-22T10:37:47.197160Z",
     "iopub.status.busy": "2023-11-22T10:37:47.196737Z",
     "iopub.status.idle": "2023-11-22T10:37:47.212377Z",
     "shell.execute_reply": "2023-11-22T10:37:47.211152Z"
    },
    "papermill": {
     "duration": 0.032399,
     "end_time": "2023-11-22T10:37:47.214905",
     "exception": false,
     "start_time": "2023-11-22T10:37:47.182506",
     "status": "completed"
    },
    "tags": []
   },
   "outputs": [
    {
     "data": {
      "text/html": [
       "<div>\n",
       "<style scoped>\n",
       "    .dataframe tbody tr th:only-of-type {\n",
       "        vertical-align: middle;\n",
       "    }\n",
       "\n",
       "    .dataframe tbody tr th {\n",
       "        vertical-align: top;\n",
       "    }\n",
       "\n",
       "    .dataframe thead th {\n",
       "        text-align: right;\n",
       "    }\n",
       "</style>\n",
       "<table border=\"1\" class=\"dataframe\">\n",
       "  <thead>\n",
       "    <tr style=\"text-align: right;\">\n",
       "      <th></th>\n",
       "      <th>Age</th>\n",
       "      <th>Annual Income (k$)</th>\n",
       "      <th>Spending Score (1-100)</th>\n",
       "      <th>Male</th>\n",
       "    </tr>\n",
       "    <tr>\n",
       "      <th>CustomerID</th>\n",
       "      <th></th>\n",
       "      <th></th>\n",
       "      <th></th>\n",
       "      <th></th>\n",
       "    </tr>\n",
       "  </thead>\n",
       "  <tbody>\n",
       "    <tr>\n",
       "      <th>1</th>\n",
       "      <td>19</td>\n",
       "      <td>15</td>\n",
       "      <td>39</td>\n",
       "      <td>1</td>\n",
       "    </tr>\n",
       "    <tr>\n",
       "      <th>2</th>\n",
       "      <td>21</td>\n",
       "      <td>15</td>\n",
       "      <td>81</td>\n",
       "      <td>1</td>\n",
       "    </tr>\n",
       "    <tr>\n",
       "      <th>3</th>\n",
       "      <td>20</td>\n",
       "      <td>16</td>\n",
       "      <td>6</td>\n",
       "      <td>0</td>\n",
       "    </tr>\n",
       "    <tr>\n",
       "      <th>4</th>\n",
       "      <td>23</td>\n",
       "      <td>16</td>\n",
       "      <td>77</td>\n",
       "      <td>0</td>\n",
       "    </tr>\n",
       "    <tr>\n",
       "      <th>5</th>\n",
       "      <td>31</td>\n",
       "      <td>17</td>\n",
       "      <td>40</td>\n",
       "      <td>0</td>\n",
       "    </tr>\n",
       "    <tr>\n",
       "      <th>...</th>\n",
       "      <td>...</td>\n",
       "      <td>...</td>\n",
       "      <td>...</td>\n",
       "      <td>...</td>\n",
       "    </tr>\n",
       "    <tr>\n",
       "      <th>196</th>\n",
       "      <td>35</td>\n",
       "      <td>120</td>\n",
       "      <td>79</td>\n",
       "      <td>0</td>\n",
       "    </tr>\n",
       "    <tr>\n",
       "      <th>197</th>\n",
       "      <td>45</td>\n",
       "      <td>126</td>\n",
       "      <td>28</td>\n",
       "      <td>0</td>\n",
       "    </tr>\n",
       "    <tr>\n",
       "      <th>198</th>\n",
       "      <td>32</td>\n",
       "      <td>126</td>\n",
       "      <td>74</td>\n",
       "      <td>1</td>\n",
       "    </tr>\n",
       "    <tr>\n",
       "      <th>199</th>\n",
       "      <td>32</td>\n",
       "      <td>137</td>\n",
       "      <td>18</td>\n",
       "      <td>1</td>\n",
       "    </tr>\n",
       "    <tr>\n",
       "      <th>200</th>\n",
       "      <td>30</td>\n",
       "      <td>137</td>\n",
       "      <td>83</td>\n",
       "      <td>1</td>\n",
       "    </tr>\n",
       "  </tbody>\n",
       "</table>\n",
       "<p>200 rows × 4 columns</p>\n",
       "</div>"
      ],
      "text/plain": [
       "            Age  Annual Income (k$)  Spending Score (1-100)  Male\n",
       "CustomerID                                                       \n",
       "1            19                  15                      39     1\n",
       "2            21                  15                      81     1\n",
       "3            20                  16                       6     0\n",
       "4            23                  16                      77     0\n",
       "5            31                  17                      40     0\n",
       "...         ...                 ...                     ...   ...\n",
       "196          35                 120                      79     0\n",
       "197          45                 126                      28     0\n",
       "198          32                 126                      74     1\n",
       "199          32                 137                      18     1\n",
       "200          30                 137                      83     1\n",
       "\n",
       "[200 rows x 4 columns]"
      ]
     },
     "execution_count": 13,
     "metadata": {},
     "output_type": "execute_result"
    }
   ],
   "source": [
    "df"
   ]
  },
  {
   "cell_type": "markdown",
   "id": "baa4cf72",
   "metadata": {
    "papermill": {
     "duration": 0.012498,
     "end_time": "2023-11-22T10:37:47.239991",
     "exception": false,
     "start_time": "2023-11-22T10:37:47.227493",
     "status": "completed"
    },
    "tags": []
   },
   "source": [
    "## Model Building"
   ]
  },
  {
   "cell_type": "code",
   "execution_count": 14,
   "id": "3b2745e9",
   "metadata": {
    "execution": {
     "iopub.execute_input": "2023-11-22T10:37:47.268298Z",
     "iopub.status.busy": "2023-11-22T10:37:47.267853Z",
     "iopub.status.idle": "2023-11-22T10:37:49.096806Z",
     "shell.execute_reply": "2023-11-22T10:37:49.095593Z"
    },
    "papermill": {
     "duration": 1.846672,
     "end_time": "2023-11-22T10:37:49.099713",
     "exception": false,
     "start_time": "2023-11-22T10:37:47.253041",
     "status": "completed"
    },
    "tags": []
   },
   "outputs": [],
   "source": [
    "from sklearn.cluster import KMeans"
   ]
  },
  {
   "cell_type": "code",
   "execution_count": 15,
   "id": "3902b5e0",
   "metadata": {
    "execution": {
     "iopub.execute_input": "2023-11-22T10:37:49.127227Z",
     "iopub.status.busy": "2023-11-22T10:37:49.126783Z",
     "iopub.status.idle": "2023-11-22T10:37:49.224553Z",
     "shell.execute_reply": "2023-11-22T10:37:49.223603Z"
    },
    "papermill": {
     "duration": 0.114529,
     "end_time": "2023-11-22T10:37:49.227251",
     "exception": false,
     "start_time": "2023-11-22T10:37:49.112722",
     "status": "completed"
    },
    "tags": []
   },
   "outputs": [
    {
     "name": "stderr",
     "output_type": "stream",
     "text": [
      "/opt/conda/lib/python3.10/site-packages/sklearn/cluster/_kmeans.py:870: FutureWarning: The default value of `n_init` will change from 10 to 'auto' in 1.4. Set the value of `n_init` explicitly to suppress the warning\n",
      "  warnings.warn(\n"
     ]
    },
    {
     "data": {
      "text/html": [
       "<style>#sk-container-id-1 {color: black;background-color: white;}#sk-container-id-1 pre{padding: 0;}#sk-container-id-1 div.sk-toggleable {background-color: white;}#sk-container-id-1 label.sk-toggleable__label {cursor: pointer;display: block;width: 100%;margin-bottom: 0;padding: 0.3em;box-sizing: border-box;text-align: center;}#sk-container-id-1 label.sk-toggleable__label-arrow:before {content: \"▸\";float: left;margin-right: 0.25em;color: #696969;}#sk-container-id-1 label.sk-toggleable__label-arrow:hover:before {color: black;}#sk-container-id-1 div.sk-estimator:hover label.sk-toggleable__label-arrow:before {color: black;}#sk-container-id-1 div.sk-toggleable__content {max-height: 0;max-width: 0;overflow: hidden;text-align: left;background-color: #f0f8ff;}#sk-container-id-1 div.sk-toggleable__content pre {margin: 0.2em;color: black;border-radius: 0.25em;background-color: #f0f8ff;}#sk-container-id-1 input.sk-toggleable__control:checked~div.sk-toggleable__content {max-height: 200px;max-width: 100%;overflow: auto;}#sk-container-id-1 input.sk-toggleable__control:checked~label.sk-toggleable__label-arrow:before {content: \"▾\";}#sk-container-id-1 div.sk-estimator input.sk-toggleable__control:checked~label.sk-toggleable__label {background-color: #d4ebff;}#sk-container-id-1 div.sk-label input.sk-toggleable__control:checked~label.sk-toggleable__label {background-color: #d4ebff;}#sk-container-id-1 input.sk-hidden--visually {border: 0;clip: rect(1px 1px 1px 1px);clip: rect(1px, 1px, 1px, 1px);height: 1px;margin: -1px;overflow: hidden;padding: 0;position: absolute;width: 1px;}#sk-container-id-1 div.sk-estimator {font-family: monospace;background-color: #f0f8ff;border: 1px dotted black;border-radius: 0.25em;box-sizing: border-box;margin-bottom: 0.5em;}#sk-container-id-1 div.sk-estimator:hover {background-color: #d4ebff;}#sk-container-id-1 div.sk-parallel-item::after {content: \"\";width: 100%;border-bottom: 1px solid gray;flex-grow: 1;}#sk-container-id-1 div.sk-label:hover label.sk-toggleable__label {background-color: #d4ebff;}#sk-container-id-1 div.sk-serial::before {content: \"\";position: absolute;border-left: 1px solid gray;box-sizing: border-box;top: 0;bottom: 0;left: 50%;z-index: 0;}#sk-container-id-1 div.sk-serial {display: flex;flex-direction: column;align-items: center;background-color: white;padding-right: 0.2em;padding-left: 0.2em;position: relative;}#sk-container-id-1 div.sk-item {position: relative;z-index: 1;}#sk-container-id-1 div.sk-parallel {display: flex;align-items: stretch;justify-content: center;background-color: white;position: relative;}#sk-container-id-1 div.sk-item::before, #sk-container-id-1 div.sk-parallel-item::before {content: \"\";position: absolute;border-left: 1px solid gray;box-sizing: border-box;top: 0;bottom: 0;left: 50%;z-index: -1;}#sk-container-id-1 div.sk-parallel-item {display: flex;flex-direction: column;z-index: 1;position: relative;background-color: white;}#sk-container-id-1 div.sk-parallel-item:first-child::after {align-self: flex-end;width: 50%;}#sk-container-id-1 div.sk-parallel-item:last-child::after {align-self: flex-start;width: 50%;}#sk-container-id-1 div.sk-parallel-item:only-child::after {width: 0;}#sk-container-id-1 div.sk-dashed-wrapped {border: 1px dashed gray;margin: 0 0.4em 0.5em 0.4em;box-sizing: border-box;padding-bottom: 0.4em;background-color: white;}#sk-container-id-1 div.sk-label label {font-family: monospace;font-weight: bold;display: inline-block;line-height: 1.2em;}#sk-container-id-1 div.sk-label-container {text-align: center;}#sk-container-id-1 div.sk-container {/* jupyter's `normalize.less` sets `[hidden] { display: none; }` but bootstrap.min.css set `[hidden] { display: none !important; }` so we also need the `!important` here to be able to override the default hidden behavior on the sphinx rendered scikit-learn.org. See: https://github.com/scikit-learn/scikit-learn/issues/21755 */display: inline-block !important;position: relative;}#sk-container-id-1 div.sk-text-repr-fallback {display: none;}</style><div id=\"sk-container-id-1\" class=\"sk-top-container\"><div class=\"sk-text-repr-fallback\"><pre>KMeans(n_clusters=5)</pre><b>In a Jupyter environment, please rerun this cell to show the HTML representation or trust the notebook. <br />On GitHub, the HTML representation is unable to render, please try loading this page with nbviewer.org.</b></div><div class=\"sk-container\" hidden><div class=\"sk-item\"><div class=\"sk-estimator sk-toggleable\"><input class=\"sk-toggleable__control sk-hidden--visually\" id=\"sk-estimator-id-1\" type=\"checkbox\" checked><label for=\"sk-estimator-id-1\" class=\"sk-toggleable__label sk-toggleable__label-arrow\">KMeans</label><div class=\"sk-toggleable__content\"><pre>KMeans(n_clusters=5)</pre></div></div></div></div></div>"
      ],
      "text/plain": [
       "KMeans(n_clusters=5)"
      ]
     },
     "execution_count": 15,
     "metadata": {},
     "output_type": "execute_result"
    }
   ],
   "source": [
    "km = KMeans(n_clusters = 5)\n",
    "km.fit(df)"
   ]
  },
  {
   "cell_type": "code",
   "execution_count": 16,
   "id": "72a817f1",
   "metadata": {
    "execution": {
     "iopub.execute_input": "2023-11-22T10:37:49.256027Z",
     "iopub.status.busy": "2023-11-22T10:37:49.255601Z",
     "iopub.status.idle": "2023-11-22T10:37:49.266873Z",
     "shell.execute_reply": "2023-11-22T10:37:49.265738Z"
    },
    "papermill": {
     "duration": 0.028027,
     "end_time": "2023-11-22T10:37:49.269322",
     "exception": false,
     "start_time": "2023-11-22T10:37:49.241295",
     "status": "completed"
    },
    "tags": []
   },
   "outputs": [
    {
     "data": {
      "text/plain": [
       "array([3, 4, 3, 4, 3, 4, 3, 4, 3, 4, 3, 4, 3, 4, 3, 4, 3, 4, 3, 4, 3, 4,\n",
       "       3, 4, 3, 4, 3, 4, 3, 4, 3, 4, 3, 4, 3, 4, 3, 4, 3, 4, 3, 4, 3, 0,\n",
       "       3, 4, 0, 0, 0, 0, 0, 0, 0, 0, 0, 0, 0, 0, 0, 0, 0, 0, 0, 0, 0, 0,\n",
       "       0, 0, 0, 0, 0, 0, 0, 0, 0, 0, 0, 0, 0, 0, 0, 0, 0, 0, 0, 0, 0, 0,\n",
       "       0, 0, 0, 0, 0, 0, 0, 0, 0, 0, 0, 0, 0, 0, 0, 0, 0, 0, 0, 0, 0, 0,\n",
       "       0, 0, 0, 0, 0, 0, 0, 0, 0, 0, 0, 0, 0, 2, 1, 2, 0, 2, 1, 2, 1, 2,\n",
       "       1, 2, 1, 2, 1, 2, 1, 2, 1, 2, 0, 2, 1, 2, 1, 2, 1, 2, 1, 2, 1, 2,\n",
       "       1, 2, 1, 2, 1, 2, 1, 2, 1, 2, 1, 2, 1, 2, 1, 2, 1, 2, 1, 2, 1, 2,\n",
       "       1, 2, 1, 2, 1, 2, 1, 2, 1, 2, 1, 2, 1, 2, 1, 2, 1, 2, 1, 2, 1, 2,\n",
       "       1, 2], dtype=int32)"
      ]
     },
     "execution_count": 16,
     "metadata": {},
     "output_type": "execute_result"
    }
   ],
   "source": [
    "preds = km.predict(df)\n",
    "preds"
   ]
  },
  {
   "cell_type": "code",
   "execution_count": 17,
   "id": "5b791ec4",
   "metadata": {
    "execution": {
     "iopub.execute_input": "2023-11-22T10:37:49.297886Z",
     "iopub.status.busy": "2023-11-22T10:37:49.296886Z",
     "iopub.status.idle": "2023-11-22T10:37:49.313483Z",
     "shell.execute_reply": "2023-11-22T10:37:49.312193Z"
    },
    "papermill": {
     "duration": 0.033318,
     "end_time": "2023-11-22T10:37:49.315836",
     "exception": false,
     "start_time": "2023-11-22T10:37:49.282518",
     "status": "completed"
    },
    "tags": []
   },
   "outputs": [
    {
     "data": {
      "text/html": [
       "<div>\n",
       "<style scoped>\n",
       "    .dataframe tbody tr th:only-of-type {\n",
       "        vertical-align: middle;\n",
       "    }\n",
       "\n",
       "    .dataframe tbody tr th {\n",
       "        vertical-align: top;\n",
       "    }\n",
       "\n",
       "    .dataframe thead th {\n",
       "        text-align: right;\n",
       "    }\n",
       "</style>\n",
       "<table border=\"1\" class=\"dataframe\">\n",
       "  <thead>\n",
       "    <tr style=\"text-align: right;\">\n",
       "      <th></th>\n",
       "      <th>Age</th>\n",
       "      <th>Annual Income (k$)</th>\n",
       "      <th>Spending Score (1-100)</th>\n",
       "      <th>Male</th>\n",
       "      <th>Segments</th>\n",
       "    </tr>\n",
       "    <tr>\n",
       "      <th>CustomerID</th>\n",
       "      <th></th>\n",
       "      <th></th>\n",
       "      <th></th>\n",
       "      <th></th>\n",
       "      <th></th>\n",
       "    </tr>\n",
       "  </thead>\n",
       "  <tbody>\n",
       "    <tr>\n",
       "      <th>1</th>\n",
       "      <td>19</td>\n",
       "      <td>15</td>\n",
       "      <td>39</td>\n",
       "      <td>1</td>\n",
       "      <td>3</td>\n",
       "    </tr>\n",
       "    <tr>\n",
       "      <th>2</th>\n",
       "      <td>21</td>\n",
       "      <td>15</td>\n",
       "      <td>81</td>\n",
       "      <td>1</td>\n",
       "      <td>4</td>\n",
       "    </tr>\n",
       "    <tr>\n",
       "      <th>3</th>\n",
       "      <td>20</td>\n",
       "      <td>16</td>\n",
       "      <td>6</td>\n",
       "      <td>0</td>\n",
       "      <td>3</td>\n",
       "    </tr>\n",
       "    <tr>\n",
       "      <th>4</th>\n",
       "      <td>23</td>\n",
       "      <td>16</td>\n",
       "      <td>77</td>\n",
       "      <td>0</td>\n",
       "      <td>4</td>\n",
       "    </tr>\n",
       "    <tr>\n",
       "      <th>5</th>\n",
       "      <td>31</td>\n",
       "      <td>17</td>\n",
       "      <td>40</td>\n",
       "      <td>0</td>\n",
       "      <td>3</td>\n",
       "    </tr>\n",
       "    <tr>\n",
       "      <th>...</th>\n",
       "      <td>...</td>\n",
       "      <td>...</td>\n",
       "      <td>...</td>\n",
       "      <td>...</td>\n",
       "      <td>...</td>\n",
       "    </tr>\n",
       "    <tr>\n",
       "      <th>196</th>\n",
       "      <td>35</td>\n",
       "      <td>120</td>\n",
       "      <td>79</td>\n",
       "      <td>0</td>\n",
       "      <td>2</td>\n",
       "    </tr>\n",
       "    <tr>\n",
       "      <th>197</th>\n",
       "      <td>45</td>\n",
       "      <td>126</td>\n",
       "      <td>28</td>\n",
       "      <td>0</td>\n",
       "      <td>1</td>\n",
       "    </tr>\n",
       "    <tr>\n",
       "      <th>198</th>\n",
       "      <td>32</td>\n",
       "      <td>126</td>\n",
       "      <td>74</td>\n",
       "      <td>1</td>\n",
       "      <td>2</td>\n",
       "    </tr>\n",
       "    <tr>\n",
       "      <th>199</th>\n",
       "      <td>32</td>\n",
       "      <td>137</td>\n",
       "      <td>18</td>\n",
       "      <td>1</td>\n",
       "      <td>1</td>\n",
       "    </tr>\n",
       "    <tr>\n",
       "      <th>200</th>\n",
       "      <td>30</td>\n",
       "      <td>137</td>\n",
       "      <td>83</td>\n",
       "      <td>1</td>\n",
       "      <td>2</td>\n",
       "    </tr>\n",
       "  </tbody>\n",
       "</table>\n",
       "<p>200 rows × 5 columns</p>\n",
       "</div>"
      ],
      "text/plain": [
       "            Age  Annual Income (k$)  Spending Score (1-100)  Male  Segments\n",
       "CustomerID                                                                 \n",
       "1            19                  15                      39     1         3\n",
       "2            21                  15                      81     1         4\n",
       "3            20                  16                       6     0         3\n",
       "4            23                  16                      77     0         4\n",
       "5            31                  17                      40     0         3\n",
       "...         ...                 ...                     ...   ...       ...\n",
       "196          35                 120                      79     0         2\n",
       "197          45                 126                      28     0         1\n",
       "198          32                 126                      74     1         2\n",
       "199          32                 137                      18     1         1\n",
       "200          30                 137                      83     1         2\n",
       "\n",
       "[200 rows x 5 columns]"
      ]
     },
     "execution_count": 17,
     "metadata": {},
     "output_type": "execute_result"
    }
   ],
   "source": [
    "df['Segments'] = preds\n",
    "df"
   ]
  },
  {
   "cell_type": "code",
   "execution_count": 18,
   "id": "9d5dedbd",
   "metadata": {
    "execution": {
     "iopub.execute_input": "2023-11-22T10:37:49.344706Z",
     "iopub.status.busy": "2023-11-22T10:37:49.344272Z",
     "iopub.status.idle": "2023-11-22T10:37:49.350556Z",
     "shell.execute_reply": "2023-11-22T10:37:49.349323Z"
    },
    "papermill": {
     "duration": 0.023799,
     "end_time": "2023-11-22T10:37:49.353287",
     "exception": false,
     "start_time": "2023-11-22T10:37:49.329488",
     "status": "completed"
    },
    "tags": []
   },
   "outputs": [],
   "source": [
    "df['Clusters'] = preds"
   ]
  },
  {
   "cell_type": "code",
   "execution_count": 19,
   "id": "28dfbe76",
   "metadata": {
    "execution": {
     "iopub.execute_input": "2023-11-22T10:37:49.382733Z",
     "iopub.status.busy": "2023-11-22T10:37:49.382274Z",
     "iopub.status.idle": "2023-11-22T10:37:49.390391Z",
     "shell.execute_reply": "2023-11-22T10:37:49.389074Z"
    },
    "papermill": {
     "duration": 0.025742,
     "end_time": "2023-11-22T10:37:49.393104",
     "exception": false,
     "start_time": "2023-11-22T10:37:49.367362",
     "status": "completed"
    },
    "tags": []
   },
   "outputs": [],
   "source": [
    "df['Segments'].replace({2:'high_earn_less_spend',\n",
    "                       1:'high_earn_high_spend',\n",
    "                       0:'mid_earn_mid_spend',\n",
    "                       3:'less_earn_high_spend',\n",
    "                       4:'less_earn_less_spend'}, inplace=True)"
   ]
  },
  {
   "cell_type": "code",
   "execution_count": 20,
   "id": "4f458246",
   "metadata": {
    "execution": {
     "iopub.execute_input": "2023-11-22T10:37:49.421989Z",
     "iopub.status.busy": "2023-11-22T10:37:49.421566Z",
     "iopub.status.idle": "2023-11-22T10:37:50.293114Z",
     "shell.execute_reply": "2023-11-22T10:37:50.292106Z"
    },
    "papermill": {
     "duration": 0.889273,
     "end_time": "2023-11-22T10:37:50.295870",
     "exception": false,
     "start_time": "2023-11-22T10:37:49.406597",
     "status": "completed"
    },
    "tags": []
   },
   "outputs": [
    {
     "data": {
      "image/png": "[encoded data removed]",
      "text/plain": [
       "<Figure size 1000x600 with 1 Axes>"
      ]
     },
     "metadata": {},
     "output_type": "display_data"
    }
   ],
   "source": [
    "import seaborn as sns\n",
    "\n",
    "# Assuming your data is in a DataFrame named 'df'\n",
    "# If not, you can create a DataFrame using pd.DataFrame(your_data, columns=your_columns)\n",
    "# where your_data is the data you provided and your_columns is a list of column names\n",
    "\n",
    "# Scatter plot between 'Annual Income' and 'Spending Score' with color-coded clusters\n",
    "plt.figure(figsize=(10, 6))\n",
    "sns.scatterplot(x='Annual Income (k$)', y='Spending Score (1-100)', hue='Segments', data=df, palette='viridis',s=100)\n",
    "plt.title('Clusters based on Annual Income and Spending Score')\n",
    "plt.show()\n"
   ]
  },
  {
   "cell_type": "markdown",
   "id": "21aeffa4",
   "metadata": {
    "papermill": {
     "duration": 0.015265,
     "end_time": "2023-11-22T10:37:50.326737",
     "exception": false,
     "start_time": "2023-11-22T10:37:50.311472",
     "status": "completed"
    },
    "tags": []
   },
   "source": [
    "0 -> high_earn_less_spend <br>\n",
    "1 -> high_earn_high_spend<br>\n",
    "2 -> mid_earn_mid_spend<br>\n",
    "3 -> less_earn_high_spend<br>\n",
    "4 -> less_earn_less_spend<br>"
   ]
  },
  {
   "cell_type": "code",
   "execution_count": 21,
   "id": "de22bebc",
   "metadata": {
    "execution": {
     "iopub.execute_input": "2023-11-22T10:37:50.360217Z",
     "iopub.status.busy": "2023-11-22T10:37:50.359017Z",
     "iopub.status.idle": "2023-11-22T10:37:50.370922Z",
     "shell.execute_reply": "2023-11-22T10:37:50.369790Z"
    },
    "papermill": {
     "duration": 0.03157,
     "end_time": "2023-11-22T10:37:50.373813",
     "exception": false,
     "start_time": "2023-11-22T10:37:50.342243",
     "status": "completed"
    },
    "tags": []
   },
   "outputs": [
    {
     "name": "stderr",
     "output_type": "stream",
     "text": [
      "/opt/conda/lib/python3.10/site-packages/sklearn/base.py:439: UserWarning: X does not have valid feature names, but KMeans was fitted with feature names\n",
      "  warnings.warn(\n"
     ]
    },
    {
     "data": {
      "text/plain": [
       "array([4], dtype=int32)"
      ]
     },
     "execution_count": 21,
     "metadata": {},
     "output_type": "execute_result"
    }
   ],
   "source": [
    "km.predict([[21,15,81,1]])"
   ]
  },
  {
   "cell_type": "code",
   "execution_count": 22,
   "id": "914bf0ef",
   "metadata": {
    "execution": {
     "iopub.execute_input": "2023-11-22T10:37:50.408389Z",
     "iopub.status.busy": "2023-11-22T10:37:50.407962Z",
     "iopub.status.idle": "2023-11-22T10:37:50.418041Z",
     "shell.execute_reply": "2023-11-22T10:37:50.416912Z"
    },
    "papermill": {
     "duration": 0.02989,
     "end_time": "2023-11-22T10:37:50.420447",
     "exception": false,
     "start_time": "2023-11-22T10:37:50.390557",
     "status": "completed"
    },
    "tags": []
   },
   "outputs": [
    {
     "data": {
      "text/plain": [
       "Segments\n",
       "mid_earn_mid_spend      80\n",
       "high_earn_less_spend    39\n",
       "high_earn_high_spend    36\n",
       "less_earn_high_spend    23\n",
       "less_earn_less_spend    22\n",
       "Name: count, dtype: int64"
      ]
     },
     "execution_count": 22,
     "metadata": {},
     "output_type": "execute_result"
    }
   ],
   "source": [
    "df['Segments'].value_counts()"
   ]
  },
  {
   "cell_type": "code",
   "execution_count": null,
   "id": "b6fa10ff",
   "metadata": {
    "papermill": {
     "duration": 0.017923,
     "end_time": "2023-11-22T10:37:50.517175",
     "exception": false,
     "start_time": "2023-11-22T10:37:50.499252",
     "status": "completed"
    },
    "tags": []
   },
   "outputs": [],
   "source": []
  },
  {
   "cell_type": "code",
   "execution_count": null,
   "id": "f908389c",
   "metadata": {
    "papermill": {
     "duration": 0.018233,
     "end_time": "2023-11-22T10:37:50.551392",
     "exception": false,
     "start_time": "2023-11-22T10:37:50.533159",
     "status": "completed"
    },
    "tags": []
   },
   "outputs": [],
   "source": []
  },
  {
   "cell_type": "code",
   "execution_count": null,
   "id": "2f5b9b90",
   "metadata": {
    "papermill": {
     "duration": 0.015551,
     "end_time": "2023-11-22T10:37:50.584171",
     "exception": false,
     "start_time": "2023-11-22T10:37:50.568620",
     "status": "completed"
    },
    "tags": []
   },
   "outputs": [],
   "source": []
  },
  {
   "cell_type": "code",
   "execution_count": null,
   "id": "6411b5ce",
   "metadata": {
    "papermill": {
     "duration": 0.015631,
     "end_time": "2023-11-22T10:37:50.615955",
     "exception": false,
     "start_time": "2023-11-22T10:37:50.600324",
     "status": "completed"
    },
    "tags": []
   },
   "outputs": [],
   "source": []
  }
 ],
 "metadata": {
  "kaggle": {
   "accelerator": "none",
   "dataSources": [
    {
     "datasetId": 42674,
     "sourceId": 74935,
     "sourceType": "datasetVersion"
    }
   ],
   "dockerImageVersionId": 30587,
   "isGpuEnabled": false,
   "isInternetEnabled": true,
   "language": "python",
   "sourceType": "notebook"
  },
  "kernelspec": {
   "display_name": "Python 3",
   "language": "python",
   "name": "python3"
  },
  "language_info": {
   "codemirror_mode": {
    "name": "ipython",
    "version": 3
   },
   "file_extension": ".py",
   "mimetype": "text/x-python",
   "name": "python",
   "nbconvert_exporter": "python",
   "pygments_lexer": "ipython3",
   "version": "3.10.12"
  },
  "papermill": {
   "default_parameters": {},
   "duration": 9.39714,
   "end_time": "2023-11-22T10:37:51.353845",
   "environment_variables": {},
   "exception": null,
   "input_path": "__notebook__.ipynb",
   "output_path": "__notebook__.ipynb",
   "parameters": {},
   "start_time": "2023-11-22T10:37:41.956705",
   "version": "2.4.0"
  }
 },
 "nbformat": 4,
 "nbformat_minor": 5
}
